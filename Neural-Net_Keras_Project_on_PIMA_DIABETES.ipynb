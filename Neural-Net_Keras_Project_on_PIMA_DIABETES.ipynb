{
 "cells": [
  {
   "cell_type": "markdown",
   "metadata": {},
   "source": [
    "### Adding Libraries"
   ]
  },
  {
   "cell_type": "code",
   "execution_count": 1,
   "metadata": {},
   "outputs": [
    {
     "name": "stderr",
     "output_type": "stream",
     "text": [
      "Using TensorFlow backend.\n"
     ]
    }
   ],
   "source": [
    "import pandas as pd\n",
    "from keras.models import Sequential\n",
    "from keras.layers import Dense"
   ]
  },
  {
   "cell_type": "markdown",
   "metadata": {},
   "source": [
    "### Reading the DataSet"
   ]
  },
  {
   "cell_type": "code",
   "execution_count": 2,
   "metadata": {},
   "outputs": [],
   "source": [
    "diabetes=pd.read_csv('diabetes.csv')diab"
   ]
  },
  {
   "cell_type": "code",
   "execution_count": 3,
   "metadata": {},
   "outputs": [
    {
     "data": {
      "text/html": [
       "<div>\n",
       "<style scoped>\n",
       "    .dataframe tbody tr th:only-of-type {\n",
       "        vertical-align: middle;\n",
       "    }\n",
       "\n",
       "    .dataframe tbody tr th {\n",
       "        vertical-align: top;\n",
       "    }\n",
       "\n",
       "    .dataframe thead th {\n",
       "        text-align: right;\n",
       "    }\n",
       "</style>\n",
       "<table border=\"1\" class=\"dataframe\">\n",
       "  <thead>\n",
       "    <tr style=\"text-align: right;\">\n",
       "      <th></th>\n",
       "      <th>Pregnancies</th>\n",
       "      <th>Glucose</th>\n",
       "      <th>BloodPressure</th>\n",
       "      <th>SkinThickness</th>\n",
       "      <th>Insulin</th>\n",
       "      <th>BMI</th>\n",
       "      <th>DiabetesPedigreeFunction</th>\n",
       "      <th>Age</th>\n",
       "      <th>Outcome</th>\n",
       "    </tr>\n",
       "  </thead>\n",
       "  <tbody>\n",
       "    <tr>\n",
       "      <td>0</td>\n",
       "      <td>6</td>\n",
       "      <td>148</td>\n",
       "      <td>72</td>\n",
       "      <td>35</td>\n",
       "      <td>0</td>\n",
       "      <td>33.6</td>\n",
       "      <td>0.627</td>\n",
       "      <td>50</td>\n",
       "      <td>1</td>\n",
       "    </tr>\n",
       "    <tr>\n",
       "      <td>1</td>\n",
       "      <td>1</td>\n",
       "      <td>85</td>\n",
       "      <td>66</td>\n",
       "      <td>29</td>\n",
       "      <td>0</td>\n",
       "      <td>26.6</td>\n",
       "      <td>0.351</td>\n",
       "      <td>31</td>\n",
       "      <td>0</td>\n",
       "    </tr>\n",
       "    <tr>\n",
       "      <td>2</td>\n",
       "      <td>8</td>\n",
       "      <td>183</td>\n",
       "      <td>64</td>\n",
       "      <td>0</td>\n",
       "      <td>0</td>\n",
       "      <td>23.3</td>\n",
       "      <td>0.672</td>\n",
       "      <td>32</td>\n",
       "      <td>1</td>\n",
       "    </tr>\n",
       "    <tr>\n",
       "      <td>3</td>\n",
       "      <td>1</td>\n",
       "      <td>89</td>\n",
       "      <td>66</td>\n",
       "      <td>23</td>\n",
       "      <td>94</td>\n",
       "      <td>28.1</td>\n",
       "      <td>0.167</td>\n",
       "      <td>21</td>\n",
       "      <td>0</td>\n",
       "    </tr>\n",
       "    <tr>\n",
       "      <td>4</td>\n",
       "      <td>0</td>\n",
       "      <td>137</td>\n",
       "      <td>40</td>\n",
       "      <td>35</td>\n",
       "      <td>168</td>\n",
       "      <td>43.1</td>\n",
       "      <td>2.288</td>\n",
       "      <td>33</td>\n",
       "      <td>1</td>\n",
       "    </tr>\n",
       "  </tbody>\n",
       "</table>\n",
       "</div>"
      ],
      "text/plain": [
       "   Pregnancies  Glucose  BloodPressure  SkinThickness  Insulin   BMI  \\\n",
       "0            6      148             72             35        0  33.6   \n",
       "1            1       85             66             29        0  26.6   \n",
       "2            8      183             64              0        0  23.3   \n",
       "3            1       89             66             23       94  28.1   \n",
       "4            0      137             40             35      168  43.1   \n",
       "\n",
       "   DiabetesPedigreeFunction  Age  Outcome  \n",
       "0                     0.627   50        1  \n",
       "1                     0.351   31        0  \n",
       "2                     0.672   32        1  \n",
       "3                     0.167   21        0  \n",
       "4                     2.288   33        1  "
      ]
     },
     "execution_count": 3,
     "metadata": {},
     "output_type": "execute_result"
    }
   ],
   "source": [
    "diabetes.head()"
   ]
  },
  {
   "cell_type": "markdown",
   "metadata": {},
   "source": [
    "### Size of DataSet"
   ]
  },
  {
   "cell_type": "code",
   "execution_count": 6,
   "metadata": {},
   "outputs": [
    {
     "data": {
      "text/plain": [
       "(768, 9)"
      ]
     },
     "execution_count": 6,
     "metadata": {},
     "output_type": "execute_result"
    }
   ],
   "source": [
    "diabetes.shape"
   ]
  },
  {
   "cell_type": "markdown",
   "metadata": {},
   "source": [
    "### Checking the Null Values"
   ]
  },
  {
   "cell_type": "code",
   "execution_count": 10,
   "metadata": {},
   "outputs": [
    {
     "data": {
      "text/plain": [
       "Pregnancies                 0\n",
       "Glucose                     0\n",
       "BloodPressure               0\n",
       "SkinThickness               0\n",
       "Insulin                     0\n",
       "BMI                         0\n",
       "DiabetesPedigreeFunction    0\n",
       "Age                         0\n",
       "Outcome                     0\n",
       "dtype: int64"
      ]
     },
     "execution_count": 10,
     "metadata": {},
     "output_type": "execute_result"
    }
   ],
   "source": [
    "diabetes.isnull().sum(axis=0)"
   ]
  },
  {
   "cell_type": "markdown",
   "metadata": {},
   "source": [
    "### variables"
   ]
  },
  {
   "cell_type": "code",
   "execution_count": 13,
   "metadata": {},
   "outputs": [],
   "source": [
    "X=diabetes.iloc[:,0:-1]\n",
    "Y=diabetes.iloc[:,-1]"
   ]
  },
  {
   "cell_type": "code",
   "execution_count": 14,
   "metadata": {
    "scrolled": true
   },
   "outputs": [
    {
     "data": {
      "text/html": [
       "<div>\n",
       "<style scoped>\n",
       "    .dataframe tbody tr th:only-of-type {\n",
       "        vertical-align: middle;\n",
       "    }\n",
       "\n",
       "    .dataframe tbody tr th {\n",
       "        vertical-align: top;\n",
       "    }\n",
       "\n",
       "    .dataframe thead th {\n",
       "        text-align: right;\n",
       "    }\n",
       "</style>\n",
       "<table border=\"1\" class=\"dataframe\">\n",
       "  <thead>\n",
       "    <tr style=\"text-align: right;\">\n",
       "      <th></th>\n",
       "      <th>Pregnancies</th>\n",
       "      <th>Glucose</th>\n",
       "      <th>BloodPressure</th>\n",
       "      <th>SkinThickness</th>\n",
       "      <th>Insulin</th>\n",
       "      <th>BMI</th>\n",
       "      <th>DiabetesPedigreeFunction</th>\n",
       "      <th>Age</th>\n",
       "    </tr>\n",
       "  </thead>\n",
       "  <tbody>\n",
       "    <tr>\n",
       "      <td>0</td>\n",
       "      <td>6</td>\n",
       "      <td>148</td>\n",
       "      <td>72</td>\n",
       "      <td>35</td>\n",
       "      <td>0</td>\n",
       "      <td>33.6</td>\n",
       "      <td>0.627</td>\n",
       "      <td>50</td>\n",
       "    </tr>\n",
       "    <tr>\n",
       "      <td>1</td>\n",
       "      <td>1</td>\n",
       "      <td>85</td>\n",
       "      <td>66</td>\n",
       "      <td>29</td>\n",
       "      <td>0</td>\n",
       "      <td>26.6</td>\n",
       "      <td>0.351</td>\n",
       "      <td>31</td>\n",
       "    </tr>\n",
       "    <tr>\n",
       "      <td>2</td>\n",
       "      <td>8</td>\n",
       "      <td>183</td>\n",
       "      <td>64</td>\n",
       "      <td>0</td>\n",
       "      <td>0</td>\n",
       "      <td>23.3</td>\n",
       "      <td>0.672</td>\n",
       "      <td>32</td>\n",
       "    </tr>\n",
       "    <tr>\n",
       "      <td>3</td>\n",
       "      <td>1</td>\n",
       "      <td>89</td>\n",
       "      <td>66</td>\n",
       "      <td>23</td>\n",
       "      <td>94</td>\n",
       "      <td>28.1</td>\n",
       "      <td>0.167</td>\n",
       "      <td>21</td>\n",
       "    </tr>\n",
       "    <tr>\n",
       "      <td>4</td>\n",
       "      <td>0</td>\n",
       "      <td>137</td>\n",
       "      <td>40</td>\n",
       "      <td>35</td>\n",
       "      <td>168</td>\n",
       "      <td>43.1</td>\n",
       "      <td>2.288</td>\n",
       "      <td>33</td>\n",
       "    </tr>\n",
       "    <tr>\n",
       "      <td>...</td>\n",
       "      <td>...</td>\n",
       "      <td>...</td>\n",
       "      <td>...</td>\n",
       "      <td>...</td>\n",
       "      <td>...</td>\n",
       "      <td>...</td>\n",
       "      <td>...</td>\n",
       "      <td>...</td>\n",
       "    </tr>\n",
       "    <tr>\n",
       "      <td>763</td>\n",
       "      <td>10</td>\n",
       "      <td>101</td>\n",
       "      <td>76</td>\n",
       "      <td>48</td>\n",
       "      <td>180</td>\n",
       "      <td>32.9</td>\n",
       "      <td>0.171</td>\n",
       "      <td>63</td>\n",
       "    </tr>\n",
       "    <tr>\n",
       "      <td>764</td>\n",
       "      <td>2</td>\n",
       "      <td>122</td>\n",
       "      <td>70</td>\n",
       "      <td>27</td>\n",
       "      <td>0</td>\n",
       "      <td>36.8</td>\n",
       "      <td>0.340</td>\n",
       "      <td>27</td>\n",
       "    </tr>\n",
       "    <tr>\n",
       "      <td>765</td>\n",
       "      <td>5</td>\n",
       "      <td>121</td>\n",
       "      <td>72</td>\n",
       "      <td>23</td>\n",
       "      <td>112</td>\n",
       "      <td>26.2</td>\n",
       "      <td>0.245</td>\n",
       "      <td>30</td>\n",
       "    </tr>\n",
       "    <tr>\n",
       "      <td>766</td>\n",
       "      <td>1</td>\n",
       "      <td>126</td>\n",
       "      <td>60</td>\n",
       "      <td>0</td>\n",
       "      <td>0</td>\n",
       "      <td>30.1</td>\n",
       "      <td>0.349</td>\n",
       "      <td>47</td>\n",
       "    </tr>\n",
       "    <tr>\n",
       "      <td>767</td>\n",
       "      <td>1</td>\n",
       "      <td>93</td>\n",
       "      <td>70</td>\n",
       "      <td>31</td>\n",
       "      <td>0</td>\n",
       "      <td>30.4</td>\n",
       "      <td>0.315</td>\n",
       "      <td>23</td>\n",
       "    </tr>\n",
       "  </tbody>\n",
       "</table>\n",
       "<p>768 rows × 8 columns</p>\n",
       "</div>"
      ],
      "text/plain": [
       "     Pregnancies  Glucose  BloodPressure  SkinThickness  Insulin   BMI  \\\n",
       "0              6      148             72             35        0  33.6   \n",
       "1              1       85             66             29        0  26.6   \n",
       "2              8      183             64              0        0  23.3   \n",
       "3              1       89             66             23       94  28.1   \n",
       "4              0      137             40             35      168  43.1   \n",
       "..           ...      ...            ...            ...      ...   ...   \n",
       "763           10      101             76             48      180  32.9   \n",
       "764            2      122             70             27        0  36.8   \n",
       "765            5      121             72             23      112  26.2   \n",
       "766            1      126             60              0        0  30.1   \n",
       "767            1       93             70             31        0  30.4   \n",
       "\n",
       "     DiabetesPedigreeFunction  Age  \n",
       "0                       0.627   50  \n",
       "1                       0.351   31  \n",
       "2                       0.672   32  \n",
       "3                       0.167   21  \n",
       "4                       2.288   33  \n",
       "..                        ...  ...  \n",
       "763                     0.171   63  \n",
       "764                     0.340   27  \n",
       "765                     0.245   30  \n",
       "766                     0.349   47  \n",
       "767                     0.315   23  \n",
       "\n",
       "[768 rows x 8 columns]"
      ]
     },
     "execution_count": 14,
     "metadata": {},
     "output_type": "execute_result"
    }
   ],
   "source": [
    "X"
   ]
  },
  {
   "cell_type": "code",
   "execution_count": 15,
   "metadata": {},
   "outputs": [
    {
     "data": {
      "text/plain": [
       "0      1\n",
       "1      0\n",
       "2      1\n",
       "3      0\n",
       "4      1\n",
       "      ..\n",
       "763    0\n",
       "764    0\n",
       "765    0\n",
       "766    1\n",
       "767    0\n",
       "Name: Outcome, Length: 768, dtype: int64"
      ]
     },
     "execution_count": 15,
     "metadata": {},
     "output_type": "execute_result"
    }
   ],
   "source": [
    "Y"
   ]
  },
  {
   "cell_type": "markdown",
   "metadata": {},
   "source": [
    "### Split the Rows"
   ]
  },
  {
   "cell_type": "code",
   "execution_count": 17,
   "metadata": {},
   "outputs": [],
   "source": [
    "# Split the Rows\n",
    "from sklearn.model_selection import train_test_split\n",
    "X_train,X_test,Y_train,Y_test=train_test_split(X,Y,test_size=0.3,stratify=Y)"
   ]
  },
  {
   "cell_type": "markdown",
   "metadata": {},
   "source": [
    "### Define the keras model"
   ]
  },
  {
   "cell_type": "code",
   "execution_count": 21,
   "metadata": {},
   "outputs": [],
   "source": [
    "model=Sequential()\n",
    "model.add(Dense(24,\n",
    "               input_shape=(8,),\n",
    "               activation='relu',\n",
    "               kernel_initializer='RandomNormal'))"
   ]
  },
  {
   "cell_type": "code",
   "execution_count": 22,
   "metadata": {},
   "outputs": [],
   "source": [
    "model.add(Dense(12,\n",
    "               activation='relu',\n",
    "               kernel_initializer='RandomNormal'))"
   ]
  },
  {
   "cell_type": "code",
   "execution_count": 27,
   "metadata": {},
   "outputs": [],
   "source": [
    "model.add(Dense(1,\n",
    "               activation='sigmoid'))"
   ]
  },
  {
   "cell_type": "markdown",
   "metadata": {},
   "source": [
    "### Compile the model"
   ]
  },
  {
   "cell_type": "code",
   "execution_count": 30,
   "metadata": {},
   "outputs": [],
   "source": [
    "model.compile(optimizer='adam',\n",
    "             loss='binary_crossentropy',\n",
    "             metrics=['accuracy'])"
   ]
  },
  {
   "cell_type": "markdown",
   "metadata": {},
   "source": [
    "### Run the Model"
   ]
  },
  {
   "cell_type": "code",
   "execution_count": 33,
   "metadata": {},
   "outputs": [
    {
     "name": "stdout",
     "output_type": "stream",
     "text": [
      "Epoch 1/160\n",
      "537/537 [==============================] - 0s 827us/step - loss: 0.7367 - accuracy: 0.3482\n",
      "Epoch 2/160\n",
      "537/537 [==============================] - 0s 333us/step - loss: 0.7160 - accuracy: 0.3482\n",
      "Epoch 3/160\n",
      "537/537 [==============================] - 0s 276us/step - loss: 0.7030 - accuracy: 0.3482\n",
      "Epoch 4/160\n",
      "537/537 [==============================] - 0s 282us/step - loss: 0.6940 - accuracy: 0.4711\n",
      "Epoch 5/160\n",
      "537/537 [==============================] - 0s 304us/step - loss: 0.6864 - accuracy: 0.6518\n",
      "Epoch 6/160\n",
      "537/537 [==============================] - 0s 271us/step - loss: 0.6801 - accuracy: 0.6518\n",
      "Epoch 7/160\n",
      "537/537 [==============================] - 0s 237us/step - loss: 0.6747 - accuracy: 0.6518\n",
      "Epoch 8/160\n",
      "537/537 [==============================] - 0s 287us/step - loss: 0.6703 - accuracy: 0.6518\n",
      "Epoch 9/160\n",
      "537/537 [==============================] - 0s 273us/step - loss: 0.6667 - accuracy: 0.6518\n",
      "Epoch 10/160\n",
      "537/537 [==============================] - 0s 277us/step - loss: 0.6636 - accuracy: 0.6518\n",
      "Epoch 11/160\n",
      "537/537 [==============================] - 0s 244us/step - loss: 0.6610 - accuracy: 0.6518\n",
      "Epoch 12/160\n",
      "537/537 [==============================] - 0s 260us/step - loss: 0.6587 - accuracy: 0.6518\n",
      "Epoch 13/160\n",
      "537/537 [==============================] - 0s 254us/step - loss: 0.6568 - accuracy: 0.6518\n",
      "Epoch 14/160\n",
      "537/537 [==============================] - 0s 267us/step - loss: 0.6553 - accuracy: 0.6518\n",
      "Epoch 15/160\n",
      "537/537 [==============================] - 0s 246us/step - loss: 0.6539 - accuracy: 0.6518\n",
      "Epoch 16/160\n",
      "537/537 [==============================] - 0s 241us/step - loss: 0.6527 - accuracy: 0.6518\n",
      "Epoch 17/160\n",
      "537/537 [==============================] - 0s 245us/step - loss: 0.6518 - accuracy: 0.6518\n",
      "Epoch 18/160\n",
      "537/537 [==============================] - 0s 767us/step - loss: 0.6509 - accuracy: 0.65180s - loss: 0.6509 - accuracy: 0.\n",
      "Epoch 19/160\n",
      "537/537 [==============================] - 0s 400us/step - loss: 0.6502 - accuracy: 0.6518\n",
      "Epoch 20/160\n",
      "537/537 [==============================] - 0s 357us/step - loss: 0.6496 - accuracy: 0.6518\n",
      "Epoch 21/160\n",
      "537/537 [==============================] - 0s 345us/step - loss: 0.6492 - accuracy: 0.6518\n",
      "Epoch 22/160\n",
      "537/537 [==============================] - 0s 257us/step - loss: 0.6487 - accuracy: 0.6518\n",
      "Epoch 23/160\n",
      "537/537 [==============================] - 0s 248us/step - loss: 0.6483 - accuracy: 0.6518\n",
      "Epoch 24/160\n",
      "537/537 [==============================] - 0s 243us/step - loss: 0.6480 - accuracy: 0.6518\n",
      "Epoch 25/160\n",
      "537/537 [==============================] - 0s 354us/step - loss: 0.6477 - accuracy: 0.6518\n",
      "Epoch 26/160\n",
      "537/537 [==============================] - 0s 304us/step - loss: 0.6475 - accuracy: 0.6518\n",
      "Epoch 27/160\n",
      "537/537 [==============================] - 0s 253us/step - loss: 0.6473 - accuracy: 0.6518\n",
      "Epoch 28/160\n",
      "537/537 [==============================] - 0s 245us/step - loss: 0.6473 - accuracy: 0.6518\n",
      "Epoch 29/160\n",
      "537/537 [==============================] - 0s 229us/step - loss: 0.6470 - accuracy: 0.6518\n",
      "Epoch 30/160\n",
      "537/537 [==============================] - 0s 227us/step - loss: 0.6470 - accuracy: 0.6518\n",
      "Epoch 31/160\n",
      "537/537 [==============================] - 0s 243us/step - loss: 0.6468 - accuracy: 0.6518\n",
      "Epoch 32/160\n",
      "537/537 [==============================] - 0s 244us/step - loss: 0.6468 - accuracy: 0.6518\n",
      "Epoch 33/160\n",
      "537/537 [==============================] - 0s 248us/step - loss: 0.6467 - accuracy: 0.6518\n",
      "Epoch 34/160\n",
      "537/537 [==============================] - 0s 250us/step - loss: 0.6467 - accuracy: 0.6518\n",
      "Epoch 35/160\n",
      "537/537 [==============================] - 0s 380us/step - loss: 0.6466 - accuracy: 0.6518\n",
      "Epoch 36/160\n",
      "537/537 [==============================] - 0s 277us/step - loss: 0.6466 - accuracy: 0.6518\n",
      "Epoch 37/160\n",
      "537/537 [==============================] - 0s 277us/step - loss: 0.6466 - accuracy: 0.6518\n",
      "Epoch 38/160\n",
      "537/537 [==============================] - 0s 476us/step - loss: 0.6465 - accuracy: 0.6518\n",
      "Epoch 39/160\n",
      "537/537 [==============================] - 0s 282us/step - loss: 0.6466 - accuracy: 0.6518\n",
      "Epoch 40/160\n",
      "537/537 [==============================] - 0s 354us/step - loss: 0.6465 - accuracy: 0.6518\n",
      "Epoch 41/160\n",
      "537/537 [==============================] - 0s 271us/step - loss: 0.6465 - accuracy: 0.6518\n",
      "Epoch 42/160\n",
      "537/537 [==============================] - 0s 265us/step - loss: 0.6464 - accuracy: 0.6518\n",
      "Epoch 43/160\n",
      "537/537 [==============================] - 0s 293us/step - loss: 0.6464 - accuracy: 0.6518\n",
      "Epoch 44/160\n",
      "537/537 [==============================] - 0s 364us/step - loss: 0.6464 - accuracy: 0.6518\n",
      "Epoch 45/160\n",
      "537/537 [==============================] - 0s 304us/step - loss: 0.6464 - accuracy: 0.6518\n",
      "Epoch 46/160\n",
      "537/537 [==============================] - 0s 227us/step - loss: 0.6464 - accuracy: 0.6518\n",
      "Epoch 47/160\n",
      "537/537 [==============================] - 0s 232us/step - loss: 0.6464 - accuracy: 0.6518\n",
      "Epoch 48/160\n",
      "537/537 [==============================] - 0s 241us/step - loss: 0.6464 - accuracy: 0.6518\n",
      "Epoch 49/160\n",
      "537/537 [==============================] - 0s 269us/step - loss: 0.6464 - accuracy: 0.6518\n",
      "Epoch 50/160\n",
      "537/537 [==============================] - 0s 374us/step - loss: 0.6464 - accuracy: 0.6518\n",
      "Epoch 51/160\n",
      "537/537 [==============================] - 0s 319us/step - loss: 0.6464 - accuracy: 0.6518\n",
      "Epoch 52/160\n",
      "537/537 [==============================] - 0s 256us/step - loss: 0.6464 - accuracy: 0.6518\n",
      "Epoch 53/160\n",
      "537/537 [==============================] - 0s 276us/step - loss: 0.6464 - accuracy: 0.6518\n",
      "Epoch 54/160\n",
      "537/537 [==============================] - 0s 248us/step - loss: 0.6464 - accuracy: 0.6518\n",
      "Epoch 55/160\n",
      "537/537 [==============================] - 0s 307us/step - loss: 0.6464 - accuracy: 0.6518\n",
      "Epoch 56/160\n",
      "537/537 [==============================] - 0s 442us/step - loss: 0.6464 - accuracy: 0.6518\n",
      "Epoch 57/160\n",
      "537/537 [==============================] - 0s 232us/step - loss: 0.6464 - accuracy: 0.6518\n",
      "Epoch 58/160\n",
      "537/537 [==============================] - 0s 284us/step - loss: 0.6465 - accuracy: 0.6518\n",
      "Epoch 59/160\n",
      "537/537 [==============================] - 0s 332us/step - loss: 0.6464 - accuracy: 0.6518\n",
      "Epoch 60/160\n",
      "537/537 [==============================] - 0s 247us/step - loss: 0.6464 - accuracy: 0.6518\n",
      "Epoch 61/160\n",
      "537/537 [==============================] - 0s 240us/step - loss: 0.6464 - accuracy: 0.6518\n",
      "Epoch 62/160\n",
      "537/537 [==============================] - 0s 245us/step - loss: 0.6464 - accuracy: 0.6518\n",
      "Epoch 63/160\n",
      "537/537 [==============================] - 0s 252us/step - loss: 0.6464 - accuracy: 0.6518\n",
      "Epoch 64/160\n",
      "537/537 [==============================] - 0s 242us/step - loss: 0.6464 - accuracy: 0.6518\n",
      "Epoch 65/160\n",
      "537/537 [==============================] - 0s 241us/step - loss: 0.6464 - accuracy: 0.6518\n",
      "Epoch 66/160\n",
      "537/537 [==============================] - 0s 244us/step - loss: 0.6464 - accuracy: 0.6518\n",
      "Epoch 67/160\n",
      "537/537 [==============================] - 0s 245us/step - loss: 0.6464 - accuracy: 0.6518\n",
      "Epoch 68/160\n",
      "537/537 [==============================] - 0s 246us/step - loss: 0.6464 - accuracy: 0.6518\n",
      "Epoch 69/160\n",
      "537/537 [==============================] - 0s 235us/step - loss: 0.6464 - accuracy: 0.6518\n",
      "Epoch 70/160\n",
      "537/537 [==============================] - 0s 245us/step - loss: 0.6465 - accuracy: 0.6518\n",
      "Epoch 71/160\n",
      "537/537 [==============================] - 0s 238us/step - loss: 0.6464 - accuracy: 0.6518\n",
      "Epoch 72/160\n",
      "537/537 [==============================] - 0s 240us/step - loss: 0.6464 - accuracy: 0.6518\n",
      "Epoch 73/160\n",
      "537/537 [==============================] - 0s 254us/step - loss: 0.6464 - accuracy: 0.6518\n",
      "Epoch 74/160\n",
      "537/537 [==============================] - 0s 387us/step - loss: 0.6464 - accuracy: 0.6518\n",
      "Epoch 75/160\n",
      "537/537 [==============================] - 0s 411us/step - loss: 0.6465 - accuracy: 0.6518\n",
      "Epoch 76/160\n",
      "537/537 [==============================] - 0s 429us/step - loss: 0.6464 - accuracy: 0.6518\n",
      "Epoch 77/160\n",
      "537/537 [==============================] - 0s 433us/step - loss: 0.6464 - accuracy: 0.6518\n",
      "Epoch 78/160\n",
      "537/537 [==============================] - 0s 275us/step - loss: 0.6464 - accuracy: 0.6518\n",
      "Epoch 79/160\n",
      "537/537 [==============================] - 0s 265us/step - loss: 0.6464 - accuracy: 0.6518\n",
      "Epoch 80/160\n",
      "537/537 [==============================] - 0s 257us/step - loss: 0.6464 - accuracy: 0.6518\n",
      "Epoch 81/160\n",
      "537/537 [==============================] - 0s 272us/step - loss: 0.6465 - accuracy: 0.6518\n",
      "Epoch 82/160\n",
      "537/537 [==============================] - 0s 309us/step - loss: 0.6465 - accuracy: 0.6518\n",
      "Epoch 83/160\n",
      "537/537 [==============================] - 0s 359us/step - loss: 0.6464 - accuracy: 0.6518\n",
      "Epoch 84/160\n",
      "537/537 [==============================] - 0s 302us/step - loss: 0.6464 - accuracy: 0.6518\n",
      "Epoch 85/160\n",
      "537/537 [==============================] - 0s 235us/step - loss: 0.6464 - accuracy: 0.6518\n",
      "Epoch 86/160\n",
      "537/537 [==============================] - 0s 222us/step - loss: 0.6464 - accuracy: 0.6518\n",
      "Epoch 87/160\n",
      "537/537 [==============================] - 0s 241us/step - loss: 0.6464 - accuracy: 0.6518\n",
      "Epoch 88/160\n",
      "537/537 [==============================] - 0s 257us/step - loss: 0.6464 - accuracy: 0.6518\n",
      "Epoch 89/160\n",
      "537/537 [==============================] - 0s 360us/step - loss: 0.6464 - accuracy: 0.6518\n",
      "Epoch 90/160\n",
      "537/537 [==============================] - 0s 293us/step - loss: 0.6464 - accuracy: 0.6518\n",
      "Epoch 91/160\n",
      "537/537 [==============================] - 0s 243us/step - loss: 0.6464 - accuracy: 0.6518\n",
      "Epoch 92/160\n",
      "537/537 [==============================] - 0s 258us/step - loss: 0.6464 - accuracy: 0.6518\n",
      "Epoch 93/160\n",
      "537/537 [==============================] - 0s 273us/step - loss: 0.6465 - accuracy: 0.6518\n",
      "Epoch 94/160\n",
      "537/537 [==============================] - 0s 305us/step - loss: 0.6464 - accuracy: 0.6518\n",
      "Epoch 95/160\n",
      "537/537 [==============================] - 0s 345us/step - loss: 0.6464 - accuracy: 0.6518\n",
      "Epoch 96/160\n",
      "537/537 [==============================] - 0s 316us/step - loss: 0.6464 - accuracy: 0.6518\n",
      "Epoch 97/160\n",
      "537/537 [==============================] - 0s 228us/step - loss: 0.6464 - accuracy: 0.6518\n",
      "Epoch 98/160\n",
      "537/537 [==============================] - 0s 224us/step - loss: 0.6464 - accuracy: 0.6518\n",
      "Epoch 99/160\n",
      "537/537 [==============================] - 0s 238us/step - loss: 0.6464 - accuracy: 0.6518\n",
      "Epoch 100/160\n",
      "537/537 [==============================] - 0s 320us/step - loss: 0.6465 - accuracy: 0.6518\n",
      "Epoch 101/160\n",
      "537/537 [==============================] - 0s 274us/step - loss: 0.6464 - accuracy: 0.6518\n",
      "Epoch 102/160\n",
      "537/537 [==============================] - 0s 240us/step - loss: 0.6464 - accuracy: 0.6518\n",
      "Epoch 103/160\n",
      "537/537 [==============================] - 0s 249us/step - loss: 0.6464 - accuracy: 0.6518\n",
      "Epoch 104/160\n",
      "537/537 [==============================] - 0s 270us/step - loss: 0.6464 - accuracy: 0.6518\n",
      "Epoch 105/160\n",
      "537/537 [==============================] - 0s 270us/step - loss: 0.6464 - accuracy: 0.6518\n",
      "Epoch 106/160\n",
      "537/537 [==============================] - 0s 331us/step - loss: 0.6464 - accuracy: 0.6518\n",
      "Epoch 107/160\n",
      "537/537 [==============================] - 0s 326us/step - loss: 0.6464 - accuracy: 0.6518\n",
      "Epoch 108/160\n",
      "537/537 [==============================] - 0s 239us/step - loss: 0.6464 - accuracy: 0.6518\n",
      "Epoch 109/160\n",
      "537/537 [==============================] - 0s 234us/step - loss: 0.6464 - accuracy: 0.6518\n",
      "Epoch 110/160\n",
      "537/537 [==============================] - 0s 234us/step - loss: 0.6464 - accuracy: 0.6518\n",
      "Epoch 111/160\n",
      "537/537 [==============================] - 0s 244us/step - loss: 0.6464 - accuracy: 0.6518\n",
      "Epoch 112/160\n",
      "537/537 [==============================] - 0s 339us/step - loss: 0.6464 - accuracy: 0.6518\n",
      "Epoch 113/160\n",
      "537/537 [==============================] - 0s 381us/step - loss: 0.6464 - accuracy: 0.6518\n",
      "Epoch 114/160\n",
      "537/537 [==============================] - 0s 249us/step - loss: 0.6464 - accuracy: 0.6518\n",
      "Epoch 115/160\n",
      "537/537 [==============================] - 0s 247us/step - loss: 0.6464 - accuracy: 0.6518\n",
      "Epoch 116/160\n",
      "537/537 [==============================] - 0s 262us/step - loss: 0.6464 - accuracy: 0.6518\n",
      "Epoch 117/160\n",
      "537/537 [==============================] - 0s 273us/step - loss: 0.6464 - accuracy: 0.6518\n",
      "Epoch 118/160\n",
      "537/537 [==============================] - 0s 320us/step - loss: 0.6464 - accuracy: 0.6518\n",
      "Epoch 119/160\n",
      "537/537 [==============================] - 0s 360us/step - loss: 0.6464 - accuracy: 0.6518\n",
      "Epoch 120/160\n",
      "537/537 [==============================] - 0s 285us/step - loss: 0.6464 - accuracy: 0.6518\n",
      "Epoch 121/160\n",
      "537/537 [==============================] - 0s 234us/step - loss: 0.6464 - accuracy: 0.6518\n",
      "Epoch 122/160\n",
      "537/537 [==============================] - 0s 236us/step - loss: 0.6464 - accuracy: 0.6518\n",
      "Epoch 123/160\n",
      "537/537 [==============================] - 0s 230us/step - loss: 0.6464 - accuracy: 0.6518\n",
      "Epoch 124/160\n",
      "537/537 [==============================] - 0s 313us/step - loss: 0.6464 - accuracy: 0.6518\n",
      "Epoch 125/160\n",
      "537/537 [==============================] - 0s 313us/step - loss: 0.6465 - accuracy: 0.6518\n",
      "Epoch 126/160\n",
      "537/537 [==============================] - 0s 235us/step - loss: 0.6465 - accuracy: 0.6518\n",
      "Epoch 127/160\n",
      "537/537 [==============================] - 0s 286us/step - loss: 0.6464 - accuracy: 0.6518\n",
      "Epoch 128/160\n",
      "537/537 [==============================] - 0s 242us/step - loss: 0.6464 - accuracy: 0.6518\n",
      "Epoch 129/160\n",
      "537/537 [==============================] - 0s 317us/step - loss: 0.6464 - accuracy: 0.6518\n",
      "Epoch 130/160\n",
      "537/537 [==============================] - 0s 276us/step - loss: 0.6464 - accuracy: 0.6518\n",
      "Epoch 131/160\n",
      "537/537 [==============================] - 0s 253us/step - loss: 0.6464 - accuracy: 0.6518\n",
      "Epoch 132/160\n",
      "537/537 [==============================] - 0s 234us/step - loss: 0.6464 - accuracy: 0.6518\n",
      "Epoch 133/160\n",
      "537/537 [==============================] - 0s 247us/step - loss: 0.6464 - accuracy: 0.6518\n",
      "Epoch 134/160\n",
      "537/537 [==============================] - 0s 334us/step - loss: 0.6464 - accuracy: 0.6518\n",
      "Epoch 135/160\n",
      "537/537 [==============================] - 0s 281us/step - loss: 0.6465 - accuracy: 0.6518\n",
      "Epoch 136/160\n",
      "537/537 [==============================] - 0s 256us/step - loss: 0.6463 - accuracy: 0.6518\n",
      "Epoch 137/160\n",
      "537/537 [==============================] - 0s 259us/step - loss: 0.6465 - accuracy: 0.6518\n",
      "Epoch 138/160\n",
      "537/537 [==============================] - 0s 354us/step - loss: 0.6464 - accuracy: 0.6518\n",
      "Epoch 139/160\n",
      "537/537 [==============================] - 0s 229us/step - loss: 0.6464 - accuracy: 0.6518\n",
      "Epoch 140/160\n",
      "537/537 [==============================] - 0s 255us/step - loss: 0.6464 - accuracy: 0.6518\n",
      "Epoch 141/160\n",
      "537/537 [==============================] - 0s 275us/step - loss: 0.6464 - accuracy: 0.65180s - loss: 0.6510 - accuracy: 0.\n",
      "Epoch 142/160\n",
      "537/537 [==============================] - 0s 292us/step - loss: 0.6464 - accuracy: 0.6518\n",
      "Epoch 143/160\n",
      "537/537 [==============================] - 0s 334us/step - loss: 0.6464 - accuracy: 0.6518\n",
      "Epoch 144/160\n",
      "537/537 [==============================] - 0s 323us/step - loss: 0.6464 - accuracy: 0.6518\n",
      "Epoch 145/160\n",
      "537/537 [==============================] - 0s 295us/step - loss: 0.6464 - accuracy: 0.6518\n",
      "Epoch 146/160\n",
      "537/537 [==============================] - 0s 388us/step - loss: 0.6464 - accuracy: 0.6518\n",
      "Epoch 147/160\n",
      "537/537 [==============================] - 0s 233us/step - loss: 0.6464 - accuracy: 0.6518\n",
      "Epoch 148/160\n",
      "537/537 [==============================] - 0s 264us/step - loss: 0.6464 - accuracy: 0.6518\n",
      "Epoch 149/160\n",
      "537/537 [==============================] - 0s 245us/step - loss: 0.6464 - accuracy: 0.6518\n",
      "Epoch 150/160\n",
      "537/537 [==============================] - 0s 271us/step - loss: 0.6465 - accuracy: 0.6518\n",
      "Epoch 151/160\n",
      "537/537 [==============================] - 0s 322us/step - loss: 0.6464 - accuracy: 0.6518\n",
      "Epoch 152/160\n",
      "537/537 [==============================] - 0s 309us/step - loss: 0.6464 - accuracy: 0.6518\n",
      "Epoch 153/160\n",
      "537/537 [==============================] - 0s 272us/step - loss: 0.6464 - accuracy: 0.6518\n",
      "Epoch 154/160\n",
      "537/537 [==============================] - 0s 237us/step - loss: 0.6464 - accuracy: 0.6518\n",
      "Epoch 155/160\n",
      "537/537 [==============================] - 0s 260us/step - loss: 0.6464 - accuracy: 0.6518\n",
      "Epoch 156/160\n",
      "537/537 [==============================] - 0s 271us/step - loss: 0.6465 - accuracy: 0.6518\n",
      "Epoch 157/160\n"
     ]
    },
    {
     "name": "stdout",
     "output_type": "stream",
     "text": [
      "537/537 [==============================] - 0s 337us/step - loss: 0.6465 - accuracy: 0.6518\n",
      "Epoch 158/160\n",
      "537/537 [==============================] - 0s 357us/step - loss: 0.6464 - accuracy: 0.6518\n",
      "Epoch 159/160\n",
      "537/537 [==============================] - 0s 285us/step - loss: 0.6464 - accuracy: 0.6518\n",
      "Epoch 160/160\n",
      "537/537 [==============================] - 0s 225us/step - loss: 0.6464 - accuracy: 0.6518\n"
     ]
    },
    {
     "data": {
      "text/plain": [
       "<keras.callbacks.callbacks.History at 0x1a3e33b210>"
      ]
     },
     "execution_count": 33,
     "metadata": {},
     "output_type": "execute_result"
    }
   ],
   "source": [
    "model.fit(X_train, Y_train,epochs=160,batch_size=10)"
   ]
  },
  {
   "cell_type": "markdown",
   "metadata": {},
   "source": [
    "### Get Accuracy Score to evaluate the Model"
   ]
  },
  {
   "cell_type": "code",
   "execution_count": 35,
   "metadata": {},
   "outputs": [
    {
     "name": "stdout",
     "output_type": "stream",
     "text": [
      "231/231 [==============================] - 0s 86us/step\n"
     ]
    },
    {
     "data": {
      "text/plain": [
       "[0.6478516413019849, 0.649350643157959]"
      ]
     },
     "execution_count": 35,
     "metadata": {},
     "output_type": "execute_result"
    }
   ],
   "source": [
    "accuracy_test=model.evaluate(X_test,Y_test)\n",
    "accuracy_test"
   ]
  },
  {
   "cell_type": "markdown",
   "metadata": {},
   "source": [
    "### Get the Predicted values and predicted probabilities of Y_test"
   ]
  },
  {
   "cell_type": "code",
   "execution_count": 38,
   "metadata": {},
   "outputs": [],
   "source": [
    "Y_predict=model.predict_classes(X_test)\n",
    "Y_pred_prob=model.predict(X_test)"
   ]
  },
  {
   "cell_type": "markdown",
   "metadata": {},
   "source": [
    "### Building the Confusion Matrix"
   ]
  },
  {
   "cell_type": "code",
   "execution_count": 39,
   "metadata": {},
   "outputs": [],
   "source": [
    "from sklearn.metrics import confusion_matrix"
   ]
  },
  {
   "cell_type": "code",
   "execution_count": 40,
   "metadata": {},
   "outputs": [],
   "source": [
    "cm=confusion_matrix(Y_test,Y_predict)"
   ]
  },
  {
   "cell_type": "code",
   "execution_count": 41,
   "metadata": {},
   "outputs": [
    {
     "data": {
      "text/plain": [
       "array([[150,   0],\n",
       "       [ 81,   0]])"
      ]
     },
     "execution_count": 41,
     "metadata": {},
     "output_type": "execute_result"
    }
   ],
   "source": [
    "cm"
   ]
  },
  {
   "cell_type": "code",
   "execution_count": null,
   "metadata": {},
   "outputs": [],
   "source": []
  }
 ],
 "metadata": {
  "kernelspec": {
   "display_name": "Python 3",
   "language": "python",
   "name": "python3"
  },
  "language_info": {
   "codemirror_mode": {
    "name": "ipython",
    "version": 3
   },
   "file_extension": ".py",
   "mimetype": "text/x-python",
   "name": "python",
   "nbconvert_exporter": "python",
   "pygments_lexer": "ipython3",
   "version": "3.7.4"
  }
 },
 "nbformat": 4,
 "nbformat_minor": 2
}
